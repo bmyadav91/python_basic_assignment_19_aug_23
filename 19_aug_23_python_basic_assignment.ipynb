{
 "cells": [
  {
   "cell_type": "code",
   "execution_count": null,
   "metadata": {},
   "outputs": [],
   "source": [
    "#1. Declare x and y as integer value and swap it"
   ]
  },
  {
   "cell_type": "code",
   "execution_count": 4,
   "metadata": {},
   "outputs": [
    {
     "name": "stdout",
     "output_type": "stream",
     "text": [
      "before x value is 10 and y value is 20\n",
      "after swapping x value is 20 and y value is 10\n"
     ]
    }
   ],
   "source": [
    "x = 10\n",
    "y = 20\n",
    "    #before swapping printing variable\n",
    "print(f\"before x value is {x} and y value is {y}\")\n",
    "    #after swapping x and y\n",
    "x, y = y, x\n",
    "print(f\"after swapping x value is {x} and y value is {y}\")"
   ]
  },
  {
   "cell_type": "code",
   "execution_count": 2,
   "metadata": {},
   "outputs": [],
   "source": [
    "#2. Create a program that calculates the area of a rectangle..."
   ]
  },
  {
   "cell_type": "code",
   "execution_count": 40,
   "metadata": {},
   "outputs": [
    {
     "name": "stdin",
     "output_type": "stream",
     "text": [
      "enter rectangle width:  10\n"
     ]
    }
   ],
   "source": [
    "rect_width = float(input(\"enter rectangle width: \"))"
   ]
  },
  {
   "cell_type": "code",
   "execution_count": 41,
   "metadata": {},
   "outputs": [
    {
     "name": "stdin",
     "output_type": "stream",
     "text": [
      "Enter Rectangle Legth:  15\n"
     ]
    }
   ],
   "source": [
    "rect_length = float(input(\"Enter Rectangle Legth: \"))"
   ]
  },
  {
   "cell_type": "code",
   "execution_count": 43,
   "metadata": {},
   "outputs": [
    {
     "name": "stdout",
     "output_type": "stream",
     "text": [
      "Rectangle Area is  150.0\n"
     ]
    }
   ],
   "source": [
    "    #calculating rectangle area\n",
    "    rect_area = rect_width*rect_length\n",
    "    #printing rectangle area\n",
    "    print(\"Rectangle Area is \", rect_area)"
   ]
  },
  {
   "cell_type": "code",
   "execution_count": null,
   "metadata": {},
   "outputs": [],
   "source": [
    "#3. converting celcsius to fahrenheit"
   ]
  },
  {
   "cell_type": "code",
   "execution_count": 44,
   "metadata": {},
   "outputs": [
    {
     "name": "stdin",
     "output_type": "stream",
     "text": [
      "Enter Temprature in celsius:  33\n"
     ]
    }
   ],
   "source": [
    "celsius_val = float(input(\"Enter Temprature in celsius: \"))"
   ]
  },
  {
   "cell_type": "code",
   "execution_count": 45,
   "metadata": {},
   "outputs": [
    {
     "name": "stdout",
     "output_type": "stream",
     "text": [
      "33.0 Celsius will be 91.4 fahrenheit\n"
     ]
    }
   ],
   "source": [
    "#converting and applying formula\n",
    "fahrenheit = (celsius_val * 9/5) + 32\n",
    "#printing now\n",
    "print(f\"{celsius_val} Celsius will be {fahrenheit} fahrenheit\")"
   ]
  },
  {
   "cell_type": "code",
   "execution_count": null,
   "metadata": {},
   "outputs": [],
   "source": [
    "#TOPIC: String Based Questions"
   ]
  },
  {
   "cell_type": "code",
   "execution_count": null,
   "metadata": {},
   "outputs": [],
   "source": [
    "#1. takes a string as input and prints the length of the string."
   ]
  },
  {
   "cell_type": "code",
   "execution_count": 46,
   "metadata": {},
   "outputs": [
    {
     "name": "stdin",
     "output_type": "stream",
     "text": [
      "enter any string:  string\n"
     ]
    },
    {
     "name": "stdout",
     "output_type": "stream",
     "text": [
      "6 length are there\n"
     ]
    }
   ],
   "source": [
    "string = input(\"enter any string: \")\n",
    "#using len funtion to calculate length of string\n",
    "stringLen = len(string)\n",
    "#printing length that enter by user\n",
    "print(f\"{stringLen} length are there\")"
   ]
  },
  {
   "cell_type": "code",
   "execution_count": null,
   "metadata": {},
   "outputs": [],
   "source": [
    "#2. Create a program that takes a sentence from the user and counts the number of vowels (a, e, i, o, u) in the string."
   ]
  },
  {
   "cell_type": "code",
   "execution_count": 47,
   "metadata": {},
   "outputs": [
    {
     "name": "stdin",
     "output_type": "stream",
     "text": [
      "enter any sentence:  I have recently visited New Delhi\n"
     ]
    },
    {
     "name": "stdout",
     "output_type": "stream",
     "text": [
      "11 vowel found in I have recently visited New Delhi\n"
     ]
    }
   ],
   "source": [
    "sentences_is = input(\"enter any sentence: \")\n",
    "#assuming vowel is zero\n",
    "v_count = 0\n",
    "#Iterating through each character in the sentences_is\n",
    "for i in sentences_is:\n",
    "    #check if vowels are there\n",
    "    if i in \"aeiouAEIOU\":\n",
    "        #if find vomels then increament in v_count\n",
    "        v_count +=1\n",
    "        #printing count if found\n",
    "print(f\"{v_count} vowel found in {sentences_is}\")"
   ]
  },
  {
   "cell_type": "code",
   "execution_count": null,
   "metadata": {},
   "outputs": [],
   "source": [
    "#3. Given a string, reverse the order of characters using string slicing and print the reversed string."
   ]
  },
  {
   "cell_type": "code",
   "execution_count": 48,
   "metadata": {},
   "outputs": [
    {
     "name": "stdin",
     "output_type": "stream",
     "text": [
      "enter random string:  India\n"
     ]
    },
    {
     "name": "stdout",
     "output_type": "stream",
     "text": [
      "aidnI\n"
     ]
    }
   ],
   "source": [
    "#collecting a string from input\n",
    "given_string = input(\"enter random string: \")\n",
    "#reversing character using slicing string\n",
    "rev_string = given_string[::-1]\n",
    "#print reverse order now\n",
    "print(rev_string)"
   ]
  },
  {
   "cell_type": "code",
   "execution_count": null,
   "metadata": {},
   "outputs": [],
   "source": [
    "#4. Write a program that takes a string as input and checks if it is a palindrome"
   ]
  },
  {
   "cell_type": "code",
   "execution_count": 49,
   "metadata": {},
   "outputs": [
    {
     "name": "stdin",
     "output_type": "stream",
     "text": [
      "enter any string:  tat\n"
     ]
    },
    {
     "name": "stdout",
     "output_type": "stream",
     "text": [
      "Yes tat is Polindrom\n"
     ]
    }
   ],
   "source": [
    "#taking a string from users\n",
    "string10 = input(\"enter any string: \")\n",
    "#reverse it using slicing \n",
    "string11 = string10[::-1]\n",
    "#now check if polindrom\n",
    "if string10 == string11:\n",
    "    print(f\"Yes {string10} is Polindrom\")\n",
    "else:\n",
    "    print(f\"{string10} is not a polindrom\")"
   ]
  },
  {
   "cell_type": "code",
   "execution_count": null,
   "metadata": {},
   "outputs": [],
   "source": [
    "#5. Create a program that takes a string as input and removes all the spaces from it. Print the modified string without spaces."
   ]
  },
  {
   "cell_type": "code",
   "execution_count": 39,
   "metadata": {},
   "outputs": [
    {
     "name": "stdin",
     "output_type": "stream",
     "text": [
      "Enter Random String:  what is your   name\n"
     ]
    },
    {
     "name": "stdout",
     "output_type": "stream",
     "text": [
      "Modified String:  whatisyourname\n"
     ]
    }
   ],
   "source": [
    "#taking a random string\n",
    "string13 = input(\"Enter Random String: \")\n",
    "#repplace all spaces from it\n",
    "rep_string13 = string13.replace(\" \", \"\")\n",
    "#printing modified string\n",
    "print(f\"Modified String:  {rep_string13}\")"
   ]
  }
 ],
 "metadata": {
  "kernelspec": {
   "display_name": "Python 3 (ipykernel)",
   "language": "python",
   "name": "python3"
  },
  "language_info": {
   "codemirror_mode": {
    "name": "ipython",
    "version": 3
   },
   "file_extension": ".py",
   "mimetype": "text/x-python",
   "name": "python",
   "nbconvert_exporter": "python",
   "pygments_lexer": "ipython3",
   "version": "3.10.8"
  }
 },
 "nbformat": 4,
 "nbformat_minor": 4
}
